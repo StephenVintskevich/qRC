{
 "cells": [
  {
   "cell_type": "code",
   "execution_count": 848,
   "metadata": {
    "colab": {
     "base_uri": "https://localhost:8080/"
    },
    "id": "ux0K9rMVwuaO",
    "outputId": "e66289d5-4811-476a-8b1c-a96496c5a5ee"
   },
   "outputs": [],
   "source": [
    "#!pip install qutip\n",
    "#!pip install git+https://github.com/qutip/qutip-qip"
   ]
  },
  {
   "cell_type": "code",
   "execution_count": null,
   "metadata": {
    "colab": {
     "base_uri": "https://localhost:8080/"
    },
    "id": "7NfOmauZ0Gh2",
    "outputId": "feef4963-6e44-42e4-e2bf-79393ba9adfa"
   },
   "outputs": [],
   "source": []
  },
  {
   "cell_type": "code",
   "execution_count": 1,
   "metadata": {
    "id": "_kBjrIAHzcYn"
   },
   "outputs": [],
   "source": [
    "import numpy as np\n",
    "import sys\n",
    "from scipy.stats import entropy\n",
    "from tqdm.notebook import tqdm\n",
    "from matplotlib import pyplot as plt\n",
    "import matplotlib.font_manager as font_manager \n",
    "from matplotlib.pyplot import gca\n",
    "import qutip as qt\n",
    "from qutip_qip.operations import cnot, hadamard_transform\n",
    "import scipy as sc\n",
    "path_main = '/Users/stepanvinckevich/Desktop/IMPORTANT NOW/QIS QRL/CODE/QRC/'\n",
    "path_EVAL = path_main + 'EVALUATION/'\n",
    "path_EVAL_NOBRIDGE = path_EVAL + 'NOBRIDGE/'\n",
    "\n",
    "path_CHAOS_SIGNAL = path_EVAL_NOBRIDGE + 'CHAOS/'\n",
    "path_SIGNAL = path_EVAL_NOBRIDGE + 'NOISY/'\n",
    "\n",
    "sys.path.append(path_main)\n",
    "\n",
    "#np.random.seed(10)\n",
    "np.random.seed(20)"
   ]
  },
  {
   "cell_type": "code",
   "execution_count": 1379,
   "metadata": {
    "id": "XZt3h9pqzdTw"
   },
   "outputs": [],
   "source": [
    "# Number of qubits in reservoirs A and B\n",
    "n_qubitsA = 3\n",
    "k_power_A = 0\n",
    "\n",
    "n_qubitsB = 3\n",
    "k_power_B = 0\n",
    "\n",
    "# Evolution timestep\n",
    "timestep = 0.3\n",
    "# Trace preserving tolerance\n",
    "tp_tol = 1e-5\n",
    "\n",
    "n_qubits_total = n_qubitsA + n_qubitsB"
   ]
  },
  {
   "cell_type": "code",
   "execution_count": 1380,
   "metadata": {
    "id": "4XjZ-dwczdag"
   },
   "outputs": [],
   "source": [
    "# Hamiltonian of A\n",
    "if k_power_A != 0:\n",
    "    hamiltonianA = qt.Qobj(np.load(f'/content/gdrive/My Drive/QRC/hamiltonians/hamiltonian{n_qubitsA}_{k_power_A}.npy'), dims=[[2]*n_qubitsA, [2]*n_qubitsA])\n",
    "else:\n",
    "    hamiltonianA = qt.Qobj(np.load(path_main + f'/hamiltonians/hamiltonian{n_qubitsA}.npy'), dims=[[2]*n_qubitsA, [2]*n_qubitsA])\n",
    "identityA = qt.identity(2**n_qubitsA)\n",
    "identityA.dims = [[2]*n_qubitsA, [2]*n_qubitsA]\n",
    "\n",
    "# Hamiltonian of B\n",
    "if k_power_B != 0:\n",
    "    hamiltonianB = qt.Qobj(np.load(f'/content/gdrive/My Drive/QRC/hamiltonians/hamiltonian{n_qubitsB}_{k_power_B}.npy'), dims=[[2]*n_qubitsB, [2]*n_qubitsB])\n",
    "else:\n",
    "    hamiltonianB = qt.Qobj(np.load(path_main + f'/hamiltonians/hamiltonian{n_qubitsB}.npy'), dims=[[2]*n_qubitsB, [2]*n_qubitsB])\n",
    "identityB = qt.identity(2**n_qubitsB)\n",
    "identityB.dims = [[2]*n_qubitsB, [2]*n_qubitsB]\n",
    "\n",
    "# Total hamiltonian\n",
    "hamiltonian = qt.tensor(hamiltonianA, identityB) + qt.tensor(identityA, hamiltonianB)\n",
    "# hamiltonian = hamiltonianA"
   ]
  },
  {
   "cell_type": "code",
   "execution_count": 1381,
   "metadata": {
    "id": "afyZpeYFzdec"
   },
   "outputs": [],
   "source": [
    "# Evolution step propagator\n",
    "propagator = qt.propagator(hamiltonian, timestep)\n",
    "propagator_dag = propagator.dag().full()\n",
    "propagator = propagator.full()\n",
    "\n",
    "# Evolution of entanglement sites a and b (now taken as identity)\n",
    "prop_a = np.eye(2)\n",
    "prop_b = np.eye(2)\n",
    "\n",
    "# Operations\n",
    "cnot_mtx = cnot(2, control=0, target=1).full()\n",
    "hadamard = hadamard_transform().full()\n",
    "cnot_mtx_backward = cnot(2, control=1, target=0).full()\n",
    "\n",
    "# Entanglement channel\n",
    "#ent_transform = cnot_mtx @ (np.kron(hadamard @ prop_a, prop_b))\n",
    "ent_transform = cnot_mtx @ cnot_mtx_backward @ cnot_mtx @ (np.kron(hadamard @ prop_a, prop_b))\n",
    "\n",
    "ent_transform_dag = np.kron(np.eye(2**(n_qubitsA - 1)), np.kron(ent_transform.T.conj(), np.eye(2**(n_qubitsB - 1))))\n",
    "ent_transform = np.kron(np.eye(2**(n_qubitsA - 1)), np.kron(ent_transform, np.eye(2**(n_qubitsB - 1))))\n",
    "\n",
    "#################################################\n",
    "\n",
    "b = np.random.uniform(0,1/3)\n",
    "c = np.random.uniform(0,1/3)\n",
    "\n",
    "P0 = qt.basis(2,0) \n",
    "P1 = qt.basis(2,1)\n",
    "\n",
    "\n",
    "P00 = qt.tensor(P0,P0)\n",
    "P01 = qt.tensor(P0,P1)\n",
    "P10 = qt.tensor(P1,P0)\n",
    "P11 = qt.tensor(P1,P1)\n",
    "\n",
    "psi00 = b * P00 + np.sqrt(1 - b**2) * P11 \n",
    "B00 = psi00 * psi00.dag()\n",
    "B00 = B00.full()\n",
    "\n",
    "psi11 = -b * P11 + np.sqrt(1 - b**2) * P00 \n",
    "B11 = psi11 * psi11.dag()\n",
    "B11 = B11.full()\n",
    "\n",
    "psi01 = c * P01 + np.sqrt(1 - c**2) * P10 \n",
    "B01 = psi01 * psi01.dag()\n",
    "B01 = B01.full()\n",
    "\n",
    "psi10 = -c * P10 + np.sqrt(1 - c**2) * P01 \n",
    "B10 = psi10 * psi10.dag()\n",
    "B10 = B10.full()\n",
    "\n",
    "PB00_dag = np.kron(np.eye(2**(n_qubitsA - 1)), np.kron(B00.T.conj(), np.eye(2**(n_qubitsB - 1))))\n",
    "PB00 = np.kron(np.eye(2**(n_qubitsA - 1)), np.kron(B00, np.eye(2**(n_qubitsB - 1))))\n",
    "\n",
    "PB11_dag = np.kron(np.eye(2**(n_qubitsA - 1)), np.kron(B11.T.conj(), np.eye(2**(n_qubitsB - 1))))\n",
    "PB11 = np.kron(np.eye(2**(n_qubitsA - 1)), np.kron(B11, np.eye(2**(n_qubitsB - 1))))\n",
    "\n",
    "PB01_dag = np.kron(np.eye(2**(n_qubitsA - 1)), np.kron(B01.T.conj(), np.eye(2**(n_qubitsB - 1))))\n",
    "PB01 = np.kron(np.eye(2**(n_qubitsA - 1)), np.kron(B01, np.eye(2**(n_qubitsB - 1))))\n",
    "\n",
    "PB10_dag = np.kron(np.eye(2**(n_qubitsA - 1)), np.kron(B10.T.conj(), np.eye(2**(n_qubitsB - 1))))\n",
    "PB10 = np.kron(np.eye(2**(n_qubitsA - 1)), np.kron(B10, np.eye(2**(n_qubitsB - 1))))\n",
    "\n",
    "\n",
    "\n",
    "######################\n"
   ]
  },
  {
   "cell_type": "code",
   "execution_count": 1382,
   "metadata": {},
   "outputs": [
    {
     "data": {
      "text/plain": [
       "array([[1.+0.j, 0.+0.j, 0.+0.j, ..., 0.+0.j, 0.+0.j, 0.+0.j],\n",
       "       [0.+0.j, 1.+0.j, 0.+0.j, ..., 0.+0.j, 0.+0.j, 0.+0.j],\n",
       "       [0.+0.j, 0.+0.j, 1.+0.j, ..., 0.+0.j, 0.+0.j, 0.+0.j],\n",
       "       ...,\n",
       "       [0.+0.j, 0.+0.j, 0.+0.j, ..., 1.+0.j, 0.+0.j, 0.+0.j],\n",
       "       [0.+0.j, 0.+0.j, 0.+0.j, ..., 0.+0.j, 1.+0.j, 0.+0.j],\n",
       "       [0.+0.j, 0.+0.j, 0.+0.j, ..., 0.+0.j, 0.+0.j, 1.+0.j]])"
      ]
     },
     "execution_count": 1382,
     "metadata": {},
     "output_type": "execute_result"
    }
   ],
   "source": [
    "PB00_dag @ PB00 + PB01_dag @ PB01  + PB10_dag @ PB10 + PB11_dag @ PB11"
   ]
  },
  {
   "cell_type": "code",
   "execution_count": 1383,
   "metadata": {
    "id": "3OkKXzL0zdiZ"
   },
   "outputs": [],
   "source": [
    "# Initial density matrix\n",
    "init_state = qt.tensor(*[qt.rand_ket(2) for _ in range(n_qubits_total)])\n",
    "init_state = init_state * init_state.dag()\n",
    "init_state = init_state.full()\n",
    "\n",
    "# np.save(f\"TF/init_state{n_qubits}.npy\", init_state)\n",
    "# init_state = np.load(f\"TF/init_state{n_qubits}.npy\")"
   ]
  },
  {
   "cell_type": "code",
   "execution_count": 1384,
   "metadata": {
    "id": "2LnK2YNEzdnC"
   },
   "outputs": [],
   "source": [
    "# Z observable and I/2\n",
    "local_obs = np.array([[1., 0.], [0., -1.]])\n",
    "identity_ent = np.eye(2)/2\n",
    "identity_total = np.eye(2**n_qubits_total)"
   ]
  },
  {
   "cell_type": "code",
   "execution_count": 1385,
   "metadata": {
    "id": "mHDJU9gk5qTb"
   },
   "outputs": [],
   "source": [
    "def get_depol_ops(site):\n",
    "    sx = np.kron(np.eye(2**site), np.kron(np.array([[0., 1.], [1., 0.]]), np.eye(2**(n_qubits_total - site - 1))))\n",
    "    sy = np.kron(np.eye(2**site), np.kron(np.array([[0., -1j], [1j, 0.]]), np.eye(2**(n_qubits_total - site - 1))))\n",
    "    sz = np.kron(np.eye(2**site), np.kron(np.array([[1., 0.], [0., -1.]]), np.eye(2**(n_qubits_total - site - 1))))\n",
    "    return sx, sy, sz"
   ]
  },
  {
   "cell_type": "code",
   "execution_count": 1386,
   "metadata": {
    "id": "NA1zOecTzdqX"
   },
   "outputs": [],
   "source": [
    "def ptrace(mtx, hold):\n",
    "    \"\"\"Performs partial trace of state with only one site #hold remains\"\"\"\n",
    "    indexes = list(range(2*n_qubits_total))\n",
    "    axis_order = [indexes.pop(hold), indexes.pop(hold + n_qubits_total - 1)]\n",
    "    axis_order = indexes + axis_order\n",
    "    mtx = np.transpose(np.reshape(mtx, [2]*2*n_qubits_total), axis_order)\n",
    "    return np.trace(np.reshape(mtx, (2**(n_qubits_total-1), 2**(n_qubits_total-1), 2, 2)))\n",
    "\n",
    "def evolution_step(state):\n",
    "    \"\"\"Simple application of evolution step propagator\"\"\"\n",
    "    state = propagator @ state @ propagator_dag\n",
    "    # assert np.abs(np.trace(state) - 1.) < tp_tol, f\"Trace is not preserved.{np.trace(state)}\"\n",
    "    return state / np.trace(state)\n",
    "\n",
    "def evolution_step_obs(obs):\n",
    "    \"\"\"Simple application of evolution step propagator\"\"\"\n",
    "    obs = propagator_dag @ obs @ propagator\n",
    "    return obs"
   ]
  },
  {
   "cell_type": "code",
   "execution_count": 1387,
   "metadata": {
    "id": "nZs43UTEFO1m"
   },
   "outputs": [],
   "source": [
    "depol_ops = [get_depol_ops(site) for site in range(n_qubits_total)]"
   ]
  },
  {
   "cell_type": "code",
   "execution_count": 1388,
   "metadata": {
    "id": "hbcKsCAkzvdQ"
   },
   "outputs": [],
   "source": [
    "# FOR TESTING NONSELECTIVE MEASUREMENTS DONT FORGET TO CHANGE PARAMETER rand !!!!!\n",
    "\n",
    "\n",
    "def entangled_channel_step(state, p, rand = True):\n",
    "    \"\"\"Application of entanglement channel with and depolarization channel with probability of depolarization 'p'\"\"\"\n",
    "    if not rand:\n",
    "        state = ent_transform @ state @ ent_transform_dag\n",
    "    else:\n",
    "        state = PB00 @ state @ PB00_dag + PB11 @ state @ PB11_dag + PB10 @ state @ PB10_dag + PB01 @ state @ PB01_dag\n",
    "        \n",
    "    if p != 0:\n",
    "        for site in [0, 1, 4, 5]:\n",
    "            state = (1 - p) * state + p/3 * sum([depol_ops[site][i] @ state @ depol_ops[site][i] for i in range(3)])\n",
    "    return state / np.trace(state)\n",
    "\n",
    "def entangled_channel_step_obs(state, p, rand = True):\n",
    "    \"\"\"Application of entanglement channel with and depolarization channel with probability of depolarization 'p'\"\"\"\n",
    "    if not rand:\n",
    "        state = ent_transform_dag @ state @ ent_transform\n",
    "    else:\n",
    "        state = PB00_dag @ state @ PB00 + PB11_dag @ state @ PB11 + PB10_dag @ state @ PB10 + PB01_dag @ state @ PB01\n",
    "    if p != 0:\n",
    "        for site in [0, 1, 4, 5]:\n",
    "            state = (1 - p) * state + p/3 * sum([depol_ops[site][i] @ state @ depol_ops[site][i] for i in range(3)])\n",
    "    return state"
   ]
  },
  {
   "cell_type": "code",
   "execution_count": 1389,
   "metadata": {
    "id": "UxtOjOFPbrwj"
   },
   "outputs": [],
   "source": [
    "tracing_krauss0 = np.concatenate([np.eye(2**(n_qubits_total - 1)), np.zeros((2**(n_qubits_total - 1), 2**(n_qubits_total - 1)))], axis=1)\n",
    "tracing_krauss1 = np.concatenate([np.zeros((2**(n_qubits_total - 1), 2**(n_qubits_total - 1))), np.eye(2**(n_qubits_total - 1))], axis=1)"
   ]
  },
  {
   "cell_type": "code",
   "execution_count": 1390,
   "metadata": {
    "id": "EHgCjwSCZ22j"
   },
   "outputs": [],
   "source": [
    "def get_encoding_krauss(inp):\n",
    "    tensor_product_krauss = np.eye(2**(n_qubits_total - 1)).ravel()\n",
    "    tensor_product_krauss = np.stack([tensor_product_krauss * np.sqrt(inp), tensor_product_krauss * np.sqrt(1. - inp)]).reshape(2**(n_qubits_total), 2**(n_qubits_total-1))\n",
    "    return tensor_product_krauss"
   ]
  },
  {
   "cell_type": "code",
   "execution_count": 1391,
   "metadata": {
    "id": "gl2SFCFJzviF"
   },
   "outputs": [],
   "source": [
    "def encoding_step(state, inp):\n",
    "    \"\"\"Encoding of inp to reservoir site #0\"\"\"\n",
    "    # Partial trace. #0 site is traced out\n",
    "#     axis_order = [0, n_qubits_total] + list(range(1, n_qubits_total)) + list(\n",
    "#         range(n_qubits_total + 1, 2*n_qubits_total))\n",
    "#     traced_dm = np.trace(np.reshape(\n",
    "#         np.transpose(np.reshape(state, [2]*2*n_qubits_total), axis_order),\n",
    "#         (2, 2, 2**(n_qubits_total-1), 2**(n_qubits_total-1))\n",
    "#     ))\n",
    "#     # Encoding\n",
    "#     encoding_node_state = np.array([[np.sqrt(inp), np.sqrt(1. - inp)]])\n",
    "#     return np.kron(encoding_node_state.T @ encoding_node_state, traced_dm)\n",
    "    enc_krauss = get_encoding_krauss(inp)\n",
    "    state = tracing_krauss0 @ state @ tracing_krauss0.T + tracing_krauss1 @ state @ tracing_krauss1.T\n",
    "    state = enc_krauss @ state @ enc_krauss.T\n",
    "    return state"
   ]
  },
  {
   "cell_type": "code",
   "execution_count": 1392,
   "metadata": {
    "id": "uafsbDhPLnLS"
   },
   "outputs": [],
   "source": [
    "def separated_measurement_step(state, site):\n",
    "    \"\"\"Nakajima pipeline\"\"\"\n",
    "    # Qubit #site dm and Z observable application\n",
    "    one_qubit_dm = ptrace(state, site)\n",
    "    outcome = np.real(np.trace(local_obs @ one_qubit_dm))\n",
    "    return state, outcome"
   ]
  },
  {
   "cell_type": "code",
   "execution_count": 1393,
   "metadata": {
    "id": "7ojxlSHc1lJZ"
   },
   "outputs": [],
   "source": [
    "def get_mutual_information(state):\n",
    "    axis_order = list(range(n_qubitsA, n_qubits_total)) + list(range(n_qubitsA + n_qubits_total, 2*n_qubits_total)) + list(\n",
    "        range(0, n_qubitsA)) + list(range(n_qubits_total, n_qubitsA + n_qubits_total))\n",
    "    dmA = np.trace(np.reshape(\n",
    "        np.transpose(np.reshape(state, [2]*2*n_qubits_total), axis_order),\n",
    "        (2**n_qubitsB, 2**n_qubitsB, 2**n_qubitsA, 2**n_qubitsA)\n",
    "    ))\n",
    "    axis_order = list(range(0, n_qubitsA)) + list(range(n_qubits_total, n_qubitsA + n_qubits_total)) + list(\n",
    "        range(n_qubitsA, n_qubits_total)) + list(range(n_qubitsA + n_qubits_total, 2*n_qubits_total))\n",
    "    dmB = np.trace(np.reshape(\n",
    "        np.transpose(np.reshape(state, [2]*2*n_qubits_total), axis_order),\n",
    "        (2**n_qubitsA, 2**n_qubitsA, 2**n_qubitsB, 2**n_qubitsB)\n",
    "    ))\n",
    "    eigsS, _ = np.linalg.eigh(state)\n",
    "    eigsA, _ = np.linalg.eigh(dmA)\n",
    "    eigsB, _ = np.linalg.eigh(dmB)\n",
    "    return entropy(eigsS[eigsS > tp_tol]) - entropy(eigsA[eigsA > tp_tol]) - entropy(eigsB[eigsB > tp_tol])"
   ]
  },
  {
   "cell_type": "markdown",
   "metadata": {
    "id": "WBnwnEh1bYKm"
   },
   "source": [
    "**KRAUSS OPS TESTED**"
   ]
  },
  {
   "cell_type": "markdown",
   "metadata": {
    "id": "v8XVKp3IbgDi"
   },
   "source": [
    "###################################################################"
   ]
  },
  {
   "cell_type": "code",
   "execution_count": 1394,
   "metadata": {
    "id": "N4p2h5GJbSs9"
   },
   "outputs": [],
   "source": [
    "state = evolution_step_obs(init_state)\n",
    "indexes = list(range(2*n_qubits_total))\n",
    "axis_order = [indexes.pop(0), indexes.pop(n_qubits_total - 1)]\n",
    "axis_order = axis_order + indexes\n",
    "state1 = np.transpose(np.reshape(state, [2]*2*n_qubits_total), axis_order)\n",
    "state1 = np.trace(np.reshape(state1, (2, 2, 2**(n_qubits_total-1), 2**(n_qubits_total-1))))\n",
    "\n",
    "state2 = tracing_krauss0 @ state @ tracing_krauss0.T + tracing_krauss1 @ state @ tracing_krauss1.T\n",
    "\n",
    "assert np.linalg.norm(state2 - state1) < 1e-12, \"Tracing ops failure in value\"\n",
    "assert state2.shape == (2**(n_qubits_total-1), 2**(n_qubits_total-1)), \"Tracing ops failure in shape\""
   ]
  },
  {
   "cell_type": "code",
   "execution_count": 1395,
   "metadata": {
    "id": "HBgp8Z9AbXRn"
   },
   "outputs": [],
   "source": [
    "inp = 0.5\n",
    "tensor_product_krauss = get_encoding_krauss(inp)\n",
    "state = evolution_step(init_state)\n",
    "state1 = encoding_step(state, inp)\n",
    "state2 = tensor_product_krauss @ (tracing_krauss0 @ state @ tracing_krauss0.T + tracing_krauss1 @ state @ tracing_krauss1.T) @ tensor_product_krauss.T\n",
    "assert np.linalg.norm(state2 - state1) < 1e-12, \"Tensor product ops failure in value\"\n",
    "assert state2.shape == (2**n_qubits_total, 2**n_qubits_total), \"Tensor product ops failure in shape\""
   ]
  },
  {
   "cell_type": "markdown",
   "metadata": {
    "id": "OEsPpjfAbdui"
   },
   "source": [
    "###################################################################"
   ]
  },
  {
   "cell_type": "code",
   "execution_count": 1396,
   "metadata": {
    "id": "90hylXl6nCqg"
   },
   "outputs": [],
   "source": [
    "# signal = np.load('/content/gdrive/My Drive/QRC/data/complex_signal_9_9.npy')\n",
    "#signal = np.load(path_main + '/data/complex_signal_9_9.npy')\n",
    "signal = [np.random.choice(2) for _ in range(2200)]\n",
    "inp = signal[2000:2200]\n",
    "multiplexing = 10"
   ]
  },
  {
   "cell_type": "code",
   "execution_count": 1397,
   "metadata": {
    "id": "0_b16KE1GBWu"
   },
   "outputs": [],
   "source": [
    "init_obs = [depol_ops[site][2] for site in range(1, n_qubits_total)]"
   ]
  },
  {
   "cell_type": "code",
   "execution_count": 1398,
   "metadata": {
    "id": "JDA8eG9a_6_H"
   },
   "outputs": [],
   "source": [
    "def get_obs_at_time(obs, timestep, dp):\n",
    "    for n in range(timestep):\n",
    "        op = get_encoding_krauss(inp[timestep-n])\n",
    "        obs = op.T @ obs @ op\n",
    "        obs = tracing_krauss0.T @ obs @ tracing_krauss0 + tracing_krauss1.T @ obs @ tracing_krauss1\n",
    "        for m in range(multiplexing):\n",
    "            obs = entangled_channel_step_obs(obs, dp)\n",
    "            obs = evolution_step_obs(obs)\n",
    "    return obs"
   ]
  },
  {
   "cell_type": "code",
   "execution_count": 1399,
   "metadata": {
    "id": "mltiLhDIHbPu"
   },
   "outputs": [],
   "source": [
    "def evaluate(depolarization_prob):\n",
    "    # Initialization\n",
    "    otoc = np.zeros((len(inp), n_qubits_total - 1))\n",
    "    mutual_information = np.zeros(len(inp))\n",
    "    result = np.zeros((len(inp), multiplexing, n_qubitsB))\n",
    "    purity = np.zeros(len(inp))\n",
    "    state = init_state\n",
    "    \n",
    "    for i in range(2000):\n",
    "        state = encoding_step(state, signal[i])\n",
    "        state = evolution_step(state)\n",
    "        # CHANGE rand TO TRUE FOR NONSELECTIVE MEASURMENTS SETUP !!!\n",
    "        state = entangled_channel_step(state, depolarization_prob)\n",
    "    for n in tqdm(range(len(inp))):\n",
    "        for idx, obs in enumerate(init_obs):\n",
    "            obs_at_time = get_obs_at_time(obs, n, depolarization_prob)\n",
    "            otoc[n, idx] = np.real(np.trace(state @ obs @ obs_at_time @ obs @ obs_at_time))\n",
    "    for n in tqdm(range(len(inp))):\n",
    "        purity[n] = np.real(np.trace(state @ state))\n",
    "        # Encoding\n",
    "        state = encoding_step(state, inp[n])\n",
    "        # Main part\n",
    "        for m in range(multiplexing):\n",
    "            # Evolution -> Entanglement -> Evolution\n",
    "            state = evolution_step(state)\n",
    "            # CHANGE rand TO TRUE FOR NONSELECTIVE MEASURMENTS SETUP !!!\n",
    "            state = entangled_channel_step(state, depolarization_prob)\n",
    "\n",
    "            for site in range(n_qubitsB):\n",
    "                state, outcome = separated_measurement_step(state, site + n_qubitsA)\n",
    "                result[n, m, site] = outcome\n",
    "        \n",
    "        mutual_information[n] = get_mutual_information(state)\n",
    "\n",
    "    return result, mutual_information, otoc, purity, state"
   ]
  },
  {
   "cell_type": "code",
   "execution_count": 1400,
   "metadata": {
    "colab": {
     "base_uri": "https://localhost:8080/",
     "height": 117,
     "referenced_widgets": [
      "7aaa6ef1bcd74644acd8c65582e4187b",
      "208c4eeed5464c12ad3d80e8b163b483",
      "2f05a9589db6455c97162539d95e6181",
      "5ca401361a1947d6bcb78df206da76a4",
      "d668cddf9a8940dc837555b838a59bb5",
      "eb157e7c7a094a8c954b06fe7fbe97ad",
      "2ee1e3c7dd6749ab9bcabf9a4d2dffd1",
      "ef42ce6f8b144524a75a6b912aa615c6",
      "118fac0fb1ee439d8886383514de1d46",
      "d1fdc9a5c9e246a09f72326b2493c906",
      "9de631c9e6254a71ba3546a25d0de49a"
     ]
    },
    "id": "Qs1vS9k17RCH",
    "outputId": "264625ce-fcd8-4c1f-f7a9-3724c94f4988"
   },
   "outputs": [
    {
     "data": {
      "application/vnd.jupyter.widget-view+json": {
       "model_id": "50aea7a7e4af4c64a9ce1edd42ade11a",
       "version_major": 2,
       "version_minor": 0
      },
      "text/plain": [
       "HBox(children=(HTML(value=''), FloatProgress(value=0.0, max=200.0), HTML(value='')))"
      ]
     },
     "metadata": {},
     "output_type": "display_data"
    },
    {
     "name": "stdout",
     "output_type": "stream",
     "text": [
      "\n"
     ]
    },
    {
     "data": {
      "application/vnd.jupyter.widget-view+json": {
       "model_id": "3d9c38f0f7c54ea7b36015d1b85301e2",
       "version_major": 2,
       "version_minor": 0
      },
      "text/plain": [
       "HBox(children=(HTML(value=''), FloatProgress(value=0.0, max=200.0), HTML(value='')))"
      ]
     },
     "metadata": {},
     "output_type": "display_data"
    },
    {
     "name": "stdout",
     "output_type": "stream",
     "text": [
      "\n"
     ]
    }
   ],
   "source": [
    "# p = 0\n",
    "# results, mutual_information, otoc, purity, state = evaluate(p)\n",
    "\n",
    "p = [0, 0.001, 0.01, 0.1, 0.5]\n",
    "for prob in p:\n",
    "    results, mutual_information, otoc, purity, state = evaluate(prob)\n",
    "    np.save(path_CHAOS_SIGNAL + 'OTOC_p' + str(prob), otoc)\n",
    "    np.save(path_CHAOS_SIGNAL + 'results_p' + str(prob), results)\n",
    "    np.save(path_CHAOS_SIGNAL + 'state_p' + str(prob), state)\n",
    "    np.save(path_CHAOS_SIGNAL + 'purity_p' + str(prob), purity)\n",
    "    np.save(path_CHAOS_SIGNAL + 'mutual_information_p' + str(prob), mutual_information)\n"
   ]
  },
  {
   "cell_type": "code",
   "execution_count": null,
   "metadata": {},
   "outputs": [],
   "source": [
    "fig = plt.figure(figsize = (32, 16))\n",
    "font = font_manager.FontProperties(family='Times New Roman',\n",
    "                                   weight='bold',\n",
    "                                   style='normal', size=25)\n",
    "font1 = {'family': 'Times New Roman',\n",
    "        'weight': 'normal',\n",
    "        'size': 50,\n",
    "        }\n",
    "ax = plt.subplot(111)\n",
    "ax.tick_params(axis='both', which='major', labelsize=45, width = 3, length = 10, direction = 'inout')\n",
    "\n",
    "#for i in range(5):\n",
    "#    plt.plot(otoc[:20, i], label = 'Z' + str(i))\n",
    "    \n",
    "plt.plot(otoc[:20,0], label = 'A:Z' + str(2), linewidth = 4)\n",
    "plt.plot(otoc[:20,1], label = 'Bridge A:Z' + str(3), linewidth = 4)\n",
    "plt.plot(otoc[:20,2], label = 'Bridge B:Z' + str(4),  linewidth = 4)\n",
    "\n",
    "plt.plot(otoc[:20,3], label = 'B:Z' + str(5), linewidth = 4)\n",
    "plt.plot(otoc[:20,4], label = 'B:Z' + str(6),  linewidth = 4)\n",
    "\n",
    "plt.plot(np.mean(otoc[:20], axis=-1), label = 'Mean',  linewidth = 4)\n",
    "    \n",
    "plt.legend(frameon=False,loc='upper right', prop = font1)\n",
    "\n",
    "fig.savefig(path_CHAOS_SIGNAL + 'OTOC' + '.svg', format='svg', dpi=3000)"
   ]
  },
  {
   "cell_type": "code",
   "execution_count": null,
   "metadata": {},
   "outputs": [],
   "source": [
    "def learning(results, offset):\n",
    "    y_true = np.array(signal[2000-offset:2200-offset]) * 2 - 1\n",
    "    X = results.reshape(-1, (n_qubitsB) * multiplexing)\n",
    "    X = np.concatenate((X, np.ones((X.shape[0], 1))), axis=1)\n",
    "    W = np.linalg.inv(X.T @ X + 1e-7*np.eye(X.shape[1])) @ X.T @ y_true\n",
    "    return X @ W, y_true\n",
    "\n",
    "def learning_gen(results, offset):\n",
    "    y_true = np.array(signal[2000-offset:2100-offset]) * 2 - 1\n",
    "    y_test = np.array(signal[2100-offset:2200-offset]) * 2 - 1\n",
    "    X = results.reshape(-1, (n_qubitsB) * multiplexing)\n",
    "    X = np.concatenate((X, np.ones((X.shape[0], 1))), axis=1)\n",
    "    X_train = X[:100]\n",
    "    X_test = X[100:]\n",
    "    W = np.linalg.inv(X_train.T @ X_train + 1e-18 *np.eye(X_train.shape[1])) @ X_train.T @ y_true\n",
    "    return X_test @ W, y_test"
   ]
  },
  {
   "cell_type": "code",
   "execution_count": null,
   "metadata": {},
   "outputs": [],
   "source": [
    "# LEARNING EVALUATION\n",
    "\n",
    "res, y_true = learning(results, 0)\n",
    "fig = plt.figure(figsize = (32, 16))\n",
    "font = font_manager.FontProperties(family='Times New Roman',\n",
    "                                   weight='bold',\n",
    "                                   style='normal', size=10)\n",
    "font1 = {'family': 'Times New Roman',\n",
    "        'weight': 'normal',\n",
    "        'size': 50,\n",
    "        }\n",
    "ax = plt.subplot(111)\n",
    "ax.tick_params(axis='both', which='major', labelsize=40, width = 3, length = 10, direction = 'inout')\n",
    "ax.set_ylim(-1.5, 1.7)\n",
    "plt.plot(y_true, label = 'Target', linewidth=5, linestyle = '--', color = '#005394')\n",
    "plt.plot(res, label = 'Learning',linewidth=4, color = '#C54C36')\n",
    "leg = plt.legend(frameon=False, loc=(0.8,0.83), prop = font1)\n",
    "leg_lines = leg.get_lines()\n",
    "leg_texts = leg.get_texts()\n",
    "plt.setp(leg_lines, linewidth=5)\n",
    "\n",
    "fig.savefig(path_CHAOS_SIGNAL + 'LEARNING' + '.svg', format='svg', dpi=3000)"
   ]
  },
  {
   "cell_type": "code",
   "execution_count": null,
   "metadata": {},
   "outputs": [],
   "source": [
    "# GENERALIZATION\n",
    "\n",
    "offset = 3\n",
    "res_gen, y_true_gen = learning_gen(results, offset)\n",
    "\n",
    "fig = plt.figure(figsize = (32, 16))\n",
    "font = font_manager.FontProperties(family='Times New Roman',\n",
    "                                   weight='bold',\n",
    "                                   style='normal', size=10)\n",
    "font1 = {'family': 'Times New Roman',\n",
    "        'weight': 'normal',\n",
    "        'size': 50,\n",
    "        }\n",
    "ax = plt.subplot(111)\n",
    "ax.tick_params(axis='both', which='major', labelsize=40, width = 3, length = 10, direction = 'inout')\n",
    "ax.set_ylim(-1.5, 1.8)\n",
    "\n",
    "plt.plot(y_true_gen, label = 'Target', linewidth=5, linestyle = '--', color = '#005394')\n",
    "plt.plot(res_gen, label = 'Prediction',linewidth=5, color = '#C54C36')\n",
    "leg = plt.legend(frameon=False, loc=(0.79,0.83), prop = font1)\n",
    "leg_lines = leg.get_lines()\n",
    "leg_texts = leg.get_texts()\n",
    "plt.setp(leg_lines, linewidth=5)\n",
    "\n",
    "\n",
    "fig.savefig(path_CHAOS_SIGNAL + 'PREDICTION_offset_'+ str(offset) + '.svg', format='svg', dpi=3000)\n",
    "\n",
    "\n"
   ]
  },
  {
   "cell_type": "code",
   "execution_count": null,
   "metadata": {},
   "outputs": [],
   "source": [
    "result_list = [np.load(path_CHAOS_SIGNAL + 'results_p' + str(prob)) + '.npy' for prob in p ]"
   ]
  },
  {
   "cell_type": "code",
   "execution_count": null,
   "metadata": {},
   "outputs": [],
   "source": [
    "\n",
    "def get_memory_acc(result):\n",
    "    acc = []\n",
    "    for i in range(50):\n",
    "        res, y_true = learning(result, i)\n",
    "        acc.append((np.mean(res * y_true) - np.mean(res) * np.mean(y_true))**2/np.var(res)/np.var(y_true))\n",
    "    return acc\n",
    "\n",
    "\n",
    "def learn_acc(d_max, result):\n",
    "    acc = []\n",
    "    for d in range(d_max):\n",
    "        res, y_true = learning_gen(result, d)\n",
    "        #acc.append(np.linalg.norm(res - y_true,ord = 'fro'))\n",
    "        acc.append(np.sum(res - y_true)**2)\n",
    "    return np.array(acc)\n",
    "\n",
    "mem_acc_list = []\n",
    "mem_cap_list = []\n",
    "learning_acc_list = []\n",
    "\n",
    "for results in result_list:\n",
    "    memory_acc = get_memory_acc(results)\n",
    "    memory_cap = np.array([np.mean(memory_acc[0: d]) for d in range(1, len(memory_acc))])\n",
    "    learning_acc = learn_acc(20,results)\n",
    "    \n",
    "    mem_acc_list.append(memory_acc)\n",
    "    mem_cap_list.append(memory_cap)\n",
    "    learning_acc_list.append(learning_acc)\n",
    "\n",
    "\n"
   ]
  },
  {
   "cell_type": "code",
   "execution_count": null,
   "metadata": {},
   "outputs": [],
   "source": [
    "\n",
    "\n",
    "fig, ax = plt.subplots(3, figsize = (16,32))\n",
    "#fig = plt.figure(figsize = (32, 16))\n",
    "font = font_manager.FontProperties(family='Times New Roman',\n",
    "                                   weight='bold',\n",
    "                                   style='normal', size=25)\n",
    "font1 = {'family': 'Times New Roman',\n",
    "        'weight': 'normal',\n",
    "        'size': 50,\n",
    "        }\n",
    "\n",
    "ax[0].tick_params(axis='both', which='major', labelsize=30, width = 3, length = 10, direction = 'inout')\n",
    "ax[1].tick_params(axis='both', which='major', labelsize=30, width = 3, length = 10, direction = 'inout')\n",
    "ax[2].tick_params(axis='both', which='major', labelsize=30, width = 3, length = 10, direction = 'inout')\n",
    "\n",
    "\n",
    "ax[0].plot(memory_acc, label = 'Memory Acc: p = 0', linewidth = 5, color = '#005394')\n",
    "ax[0].plot(memory_acc, label = 'Memory Acc: p = 0.01', linewidth = 5, color = '#C54C36')\n",
    "ax[0].plot(memory_acc, label = 'Memory Acc: p = 0.1', linewidth = 5, color = '#74C265')\n",
    "ax[0].legend(loc = 'upper right', fontsize=30, prop = font1)\n",
    "\n",
    "ax[1].plot(memory_cap, label = 'Memory Cap.p = 0', linewidth = 5, color = '#005394')\n",
    "ax[1].plot(memory_cap, label = 'Memory Cap.p = 0.01', linewidth = 5, color = '#C54C36')\n",
    "ax[1].plot(memory_cap, label = 'Memory Cap.p = 0.1', linewidth = 5, color = '#74C265')\n",
    "ax[1].legend(loc = 'upper right', fontsize=30,  prop = font1)\n",
    "\n",
    "\n",
    "\n",
    "ax[2].plot(learn_acc(20), label = 'Gen. Acc: p = 0', linewidth = 3, linestyle = '--',  marker = 'o',markersize = 20, color = '#005394')\n",
    "ax[2].plot(learn_acc(20), label = 'Gen. Acc: p =0.01', linewidth = 3, linestyle = '--',  marker = 's',markersize = 20, color = '#C54C36')\n",
    "ax[2].plot(learn_acc(20), label = 'Gen. Acc: p =0.1', linewidth = 3, linestyle = '--',  marker = '^',markersize = 20, color = '#74C265')\n",
    "ax[2].legend(loc = 'upper left', fontsize=30,  prop = font1)\n",
    "\n",
    "fig.savefig(path_CHAOS_SIGNAL + 'TASKS_BENCHMARKS' + '.svg', format='svg', dpi=3000)"
   ]
  }
 ],
 "metadata": {
  "colab": {
   "collapsed_sections": [],
   "name": "OTOC.ipynb",
   "provenance": []
  },
  "kernelspec": {
   "display_name": "Python 3",
   "language": "python",
   "name": "python3"
  },
  "language_info": {
   "codemirror_mode": {
    "name": "ipython",
    "version": 3
   },
   "file_extension": ".py",
   "mimetype": "text/x-python",
   "name": "python",
   "nbconvert_exporter": "python",
   "pygments_lexer": "ipython3",
   "version": "3.8.5"
  },
  "widgets": {
   "application/vnd.jupyter.widget-state+json": {
    "118fac0fb1ee439d8886383514de1d46": {
     "model_module": "@jupyter-widgets/base",
     "model_module_version": "1.2.0",
     "model_name": "LayoutModel",
     "state": {
      "_model_module": "@jupyter-widgets/base",
      "_model_module_version": "1.2.0",
      "_model_name": "LayoutModel",
      "_view_count": null,
      "_view_module": "@jupyter-widgets/base",
      "_view_module_version": "1.2.0",
      "_view_name": "LayoutView",
      "align_content": null,
      "align_items": null,
      "align_self": null,
      "border": null,
      "bottom": null,
      "display": null,
      "flex": null,
      "flex_flow": null,
      "grid_area": null,
      "grid_auto_columns": null,
      "grid_auto_flow": null,
      "grid_auto_rows": null,
      "grid_column": null,
      "grid_gap": null,
      "grid_row": null,
      "grid_template_areas": null,
      "grid_template_columns": null,
      "grid_template_rows": null,
      "height": null,
      "justify_content": null,
      "justify_items": null,
      "left": null,
      "margin": null,
      "max_height": null,
      "max_width": null,
      "min_height": null,
      "min_width": null,
      "object_fit": null,
      "object_position": null,
      "order": null,
      "overflow": null,
      "overflow_x": null,
      "overflow_y": null,
      "padding": null,
      "right": null,
      "top": null,
      "visibility": null,
      "width": null
     }
    },
    "208c4eeed5464c12ad3d80e8b163b483": {
     "model_module": "@jupyter-widgets/base",
     "model_module_version": "1.2.0",
     "model_name": "LayoutModel",
     "state": {
      "_model_module": "@jupyter-widgets/base",
      "_model_module_version": "1.2.0",
      "_model_name": "LayoutModel",
      "_view_count": null,
      "_view_module": "@jupyter-widgets/base",
      "_view_module_version": "1.2.0",
      "_view_name": "LayoutView",
      "align_content": null,
      "align_items": null,
      "align_self": null,
      "border": null,
      "bottom": null,
      "display": null,
      "flex": null,
      "flex_flow": null,
      "grid_area": null,
      "grid_auto_columns": null,
      "grid_auto_flow": null,
      "grid_auto_rows": null,
      "grid_column": null,
      "grid_gap": null,
      "grid_row": null,
      "grid_template_areas": null,
      "grid_template_columns": null,
      "grid_template_rows": null,
      "height": null,
      "justify_content": null,
      "justify_items": null,
      "left": null,
      "margin": null,
      "max_height": null,
      "max_width": null,
      "min_height": null,
      "min_width": null,
      "object_fit": null,
      "object_position": null,
      "order": null,
      "overflow": null,
      "overflow_x": null,
      "overflow_y": null,
      "padding": null,
      "right": null,
      "top": null,
      "visibility": null,
      "width": null
     }
    },
    "2ee1e3c7dd6749ab9bcabf9a4d2dffd1": {
     "model_module": "@jupyter-widgets/base",
     "model_module_version": "1.2.0",
     "model_name": "LayoutModel",
     "state": {
      "_model_module": "@jupyter-widgets/base",
      "_model_module_version": "1.2.0",
      "_model_name": "LayoutModel",
      "_view_count": null,
      "_view_module": "@jupyter-widgets/base",
      "_view_module_version": "1.2.0",
      "_view_name": "LayoutView",
      "align_content": null,
      "align_items": null,
      "align_self": null,
      "border": null,
      "bottom": null,
      "display": null,
      "flex": null,
      "flex_flow": null,
      "grid_area": null,
      "grid_auto_columns": null,
      "grid_auto_flow": null,
      "grid_auto_rows": null,
      "grid_column": null,
      "grid_gap": null,
      "grid_row": null,
      "grid_template_areas": null,
      "grid_template_columns": null,
      "grid_template_rows": null,
      "height": null,
      "justify_content": null,
      "justify_items": null,
      "left": null,
      "margin": null,
      "max_height": null,
      "max_width": null,
      "min_height": null,
      "min_width": null,
      "object_fit": null,
      "object_position": null,
      "order": null,
      "overflow": null,
      "overflow_x": null,
      "overflow_y": null,
      "padding": null,
      "right": null,
      "top": null,
      "visibility": null,
      "width": null
     }
    },
    "2f05a9589db6455c97162539d95e6181": {
     "model_module": "@jupyter-widgets/controls",
     "model_module_version": "1.5.0",
     "model_name": "HTMLModel",
     "state": {
      "_dom_classes": [],
      "_model_module": "@jupyter-widgets/controls",
      "_model_module_version": "1.5.0",
      "_model_name": "HTMLModel",
      "_view_count": null,
      "_view_module": "@jupyter-widgets/controls",
      "_view_module_version": "1.5.0",
      "_view_name": "HTMLView",
      "description": "",
      "description_tooltip": null,
      "layout": "IPY_MODEL_2ee1e3c7dd6749ab9bcabf9a4d2dffd1",
      "placeholder": "​",
      "style": "IPY_MODEL_eb157e7c7a094a8c954b06fe7fbe97ad",
      "value": " 80%"
     }
    },
    "5ca401361a1947d6bcb78df206da76a4": {
     "model_module": "@jupyter-widgets/controls",
     "model_module_version": "1.5.0",
     "model_name": "FloatProgressModel",
     "state": {
      "_dom_classes": [],
      "_model_module": "@jupyter-widgets/controls",
      "_model_module_version": "1.5.0",
      "_model_name": "FloatProgressModel",
      "_view_count": null,
      "_view_module": "@jupyter-widgets/controls",
      "_view_module_version": "1.5.0",
      "_view_name": "ProgressView",
      "bar_style": "",
      "description": "",
      "description_tooltip": null,
      "layout": "IPY_MODEL_118fac0fb1ee439d8886383514de1d46",
      "max": 50,
      "min": 0,
      "orientation": "horizontal",
      "style": "IPY_MODEL_ef42ce6f8b144524a75a6b912aa615c6",
      "value": 40
     }
    },
    "7aaa6ef1bcd74644acd8c65582e4187b": {
     "model_module": "@jupyter-widgets/controls",
     "model_module_version": "1.5.0",
     "model_name": "HBoxModel",
     "state": {
      "_dom_classes": [],
      "_model_module": "@jupyter-widgets/controls",
      "_model_module_version": "1.5.0",
      "_model_name": "HBoxModel",
      "_view_count": null,
      "_view_module": "@jupyter-widgets/controls",
      "_view_module_version": "1.5.0",
      "_view_name": "HBoxView",
      "box_style": "",
      "children": [
       "IPY_MODEL_2f05a9589db6455c97162539d95e6181",
       "IPY_MODEL_5ca401361a1947d6bcb78df206da76a4",
       "IPY_MODEL_d668cddf9a8940dc837555b838a59bb5"
      ],
      "layout": "IPY_MODEL_208c4eeed5464c12ad3d80e8b163b483"
     }
    },
    "9de631c9e6254a71ba3546a25d0de49a": {
     "model_module": "@jupyter-widgets/base",
     "model_module_version": "1.2.0",
     "model_name": "LayoutModel",
     "state": {
      "_model_module": "@jupyter-widgets/base",
      "_model_module_version": "1.2.0",
      "_model_name": "LayoutModel",
      "_view_count": null,
      "_view_module": "@jupyter-widgets/base",
      "_view_module_version": "1.2.0",
      "_view_name": "LayoutView",
      "align_content": null,
      "align_items": null,
      "align_self": null,
      "border": null,
      "bottom": null,
      "display": null,
      "flex": null,
      "flex_flow": null,
      "grid_area": null,
      "grid_auto_columns": null,
      "grid_auto_flow": null,
      "grid_auto_rows": null,
      "grid_column": null,
      "grid_gap": null,
      "grid_row": null,
      "grid_template_areas": null,
      "grid_template_columns": null,
      "grid_template_rows": null,
      "height": null,
      "justify_content": null,
      "justify_items": null,
      "left": null,
      "margin": null,
      "max_height": null,
      "max_width": null,
      "min_height": null,
      "min_width": null,
      "object_fit": null,
      "object_position": null,
      "order": null,
      "overflow": null,
      "overflow_x": null,
      "overflow_y": null,
      "padding": null,
      "right": null,
      "top": null,
      "visibility": null,
      "width": null
     }
    },
    "d1fdc9a5c9e246a09f72326b2493c906": {
     "model_module": "@jupyter-widgets/controls",
     "model_module_version": "1.5.0",
     "model_name": "DescriptionStyleModel",
     "state": {
      "_model_module": "@jupyter-widgets/controls",
      "_model_module_version": "1.5.0",
      "_model_name": "DescriptionStyleModel",
      "_view_count": null,
      "_view_module": "@jupyter-widgets/base",
      "_view_module_version": "1.2.0",
      "_view_name": "StyleView",
      "description_width": ""
     }
    },
    "d668cddf9a8940dc837555b838a59bb5": {
     "model_module": "@jupyter-widgets/controls",
     "model_module_version": "1.5.0",
     "model_name": "HTMLModel",
     "state": {
      "_dom_classes": [],
      "_model_module": "@jupyter-widgets/controls",
      "_model_module_version": "1.5.0",
      "_model_name": "HTMLModel",
      "_view_count": null,
      "_view_module": "@jupyter-widgets/controls",
      "_view_module_version": "1.5.0",
      "_view_name": "HTMLView",
      "description": "",
      "description_tooltip": null,
      "layout": "IPY_MODEL_9de631c9e6254a71ba3546a25d0de49a",
      "placeholder": "​",
      "style": "IPY_MODEL_d1fdc9a5c9e246a09f72326b2493c906",
      "value": " 40/50 [00:21&lt;00:09,  1.01it/s]"
     }
    },
    "eb157e7c7a094a8c954b06fe7fbe97ad": {
     "model_module": "@jupyter-widgets/controls",
     "model_module_version": "1.5.0",
     "model_name": "DescriptionStyleModel",
     "state": {
      "_model_module": "@jupyter-widgets/controls",
      "_model_module_version": "1.5.0",
      "_model_name": "DescriptionStyleModel",
      "_view_count": null,
      "_view_module": "@jupyter-widgets/base",
      "_view_module_version": "1.2.0",
      "_view_name": "StyleView",
      "description_width": ""
     }
    },
    "ef42ce6f8b144524a75a6b912aa615c6": {
     "model_module": "@jupyter-widgets/controls",
     "model_module_version": "1.5.0",
     "model_name": "ProgressStyleModel",
     "state": {
      "_model_module": "@jupyter-widgets/controls",
      "_model_module_version": "1.5.0",
      "_model_name": "ProgressStyleModel",
      "_view_count": null,
      "_view_module": "@jupyter-widgets/base",
      "_view_module_version": "1.2.0",
      "_view_name": "StyleView",
      "bar_color": null,
      "description_width": ""
     }
    }
   }
  }
 },
 "nbformat": 4,
 "nbformat_minor": 1
}
