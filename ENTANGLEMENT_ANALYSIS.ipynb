{
 "cells": [
  {
   "cell_type": "code",
   "execution_count": 14,
   "metadata": {},
   "outputs": [],
   "source": [
    "import numpy as np\n",
    "import sys\n",
    "from scipy.stats import entropy\n",
    "from tqdm.notebook import tqdm\n",
    "from matplotlib import pyplot as plt\n",
    "import matplotlib.font_manager as font_manager \n",
    "from matplotlib.pyplot import gca\n",
    "import matplotlib\n",
    "from matplotlib.colors import BoundaryNorm\n",
    "from matplotlib.ticker import MaxNLocator\n",
    "\n",
    "import qutip as qt\n",
    "from qutip_qip.operations import cnot, hadamard_transform\n",
    "import scipy as sc\n",
    "from time import time \n",
    "import seaborn as sns\n",
    "\n",
    "path_main = '/Users/stepanvinckevich/Desktop/IMPORTANT NOW/QIS QRL/CODE/qRC/'\n",
    "path_EVAL = path_main + 'EVALUATION/ENTANGLEMENT_ANALYSIS/'\n",
    "path_PRODUCT =  path_EVAL + 'PRODUCTION/'\n",
    "sys.path.append(path_main)\n",
    "\n",
    "\n"
   ]
  },
  {
   "cell_type": "code",
   "execution_count": null,
   "metadata": {},
   "outputs": [],
   "source": []
  },
  {
   "cell_type": "code",
   "execution_count": 31,
   "metadata": {},
   "outputs": [],
   "source": [
    "# Number of qubits in reservoirs A and B\n",
    "n_qubitsA = 2\n",
    "k_power_A = 0\n",
    "\n",
    "n_qubitsB = 3\n",
    "k_power_B = 0\n",
    "\n",
    "# Evolution timestep\n",
    "timestep = 0.1\n",
    "# Trace preserving tolerance\n",
    "tp_tol = 1e-5\n",
    "\n",
    "n_qubits_total = n_qubitsA + n_qubitsB\n",
    "\n",
    "# Hamiltonian of A\n",
    "if k_power_A != 0:\n",
    "    hamiltonianA = qt.Qobj(np.load(f'/content/gdrive/My Drive/QRC/hamiltonians/hamiltonian{n_qubitsA}_{k_power_A}.npy'), dims=[[2]*n_qubitsA, [2]*n_qubitsA])\n",
    "else:\n",
    "    hamiltonianA = qt.Qobj(np.load(path_main + f'/hamiltonians/hamiltonian{n_qubitsA}.npy'), dims=[[2]*n_qubitsA, [2]*n_qubitsA])\n",
    "identityA = qt.identity(2**n_qubitsA)\n",
    "identityA.dims = [[2]*n_qubitsA, [2]*n_qubitsA]\n",
    "\n",
    "# Hamiltonian of B\n",
    "if k_power_B != 0:\n",
    "    hamiltonianB = qt.Qobj(np.load(f'/content/gdrive/My Drive/QRC/hamiltonians/hamiltonian{n_qubitsB}_{k_power_B}.npy'), dims=[[2]*n_qubitsB, [2]*n_qubitsB])\n",
    "else:\n",
    "    hamiltonianB = qt.Qobj(np.load(path_main + f'/hamiltonians/hamiltonian{n_qubitsB}.npy'), dims=[[2]*n_qubitsB, [2]*n_qubitsB])\n",
    "identityB = qt.identity(2**n_qubitsB)\n",
    "identityB.dims = [[2]*n_qubitsB, [2]*n_qubitsB]\n",
    "\n",
    "# Total hamiltonian\n",
    "hamiltonian = qt.tensor(hamiltonianA, identityB) + qt.tensor(identityA, hamiltonianB)\n",
    "# hamiltonian = hamiltonianA\n",
    "\n",
    "\n",
    "# Evolution step propagator\n",
    "propagator = qt.propagator(hamiltonian, timestep)\n",
    "propagator_dag = propagator.dag().full()\n",
    "propagator = propagator.full()\n",
    "\n",
    "# Evolution of entanglement sites a and b (now taken as identity)\n",
    "prop_a = np.eye(2)\n",
    "prop_b = np.eye(2)\n",
    "\n",
    "#################################################\n",
    "\n",
    "\n",
    "P0 = qt.basis(2,0) \n",
    "P1 = qt.basis(2,1)\n",
    "\n",
    "\n",
    "P00 = qt.tensor(P0,P0)\n",
    "P01 = qt.tensor(P0,P1)\n",
    "P10 = qt.tensor(P1,P0)\n",
    "P11 = qt.tensor(P1,P1)\n"
   ]
  },
  {
   "cell_type": "code",
   "execution_count": 16,
   "metadata": {},
   "outputs": [],
   "source": [
    "\n",
    "\n",
    "# DEPOLARIZATION CHANNEL\n",
    "def get_depol_ops(site):\n",
    "    sx = np.kron(np.eye(2**site), np.kron(np.array([[0., 1.], [1., 0.]]), np.eye(2**(n_qubits_total - site - 1))))\n",
    "    sy = np.kron(np.eye(2**site), np.kron(np.array([[0., -1j], [1j, 0.]]), np.eye(2**(n_qubits_total - site - 1))))\n",
    "    sz = np.kron(np.eye(2**site), np.kron(np.array([[1., 0.], [0., -1.]]), np.eye(2**(n_qubits_total - site - 1))))\n",
    "    return sx, sy, sz\n",
    "\n",
    "def ptrace(mtx, hold):\n",
    "    \"\"\"Performs partial trace of state with only one site #hold remains\"\"\"\n",
    "    indexes = list(range(2*n_qubits_total))\n",
    "    axis_order = [indexes.pop(hold), indexes.pop(hold + n_qubits_total - 1)]\n",
    "    axis_order = indexes + axis_order\n",
    "    mtx = np.transpose(np.reshape(mtx, [2]*2*n_qubits_total), axis_order)\n",
    "    return np.trace(np.reshape(mtx, (2**(n_qubits_total-1), 2**(n_qubits_total-1), 2, 2)))\n",
    "\n",
    "def evolution_step(state):\n",
    "    \"\"\"Simple application of evolution step propagator\"\"\"\n",
    "    state = propagator @ state @ propagator_dag\n",
    "    # assert np.abs(np.trace(state) - 1.) < tp_tol, f\"Trace is not preserved.{np.trace(state)}\"\n",
    "    return state / np.trace(state)\n",
    "\n",
    "def nonselctive_meas_ch(state,b,c):\n",
    "    psi00 = b * P00 + np.sqrt(1 - b**2) * P11 \n",
    "    B00 = psi00 * psi00.dag()\n",
    "    B00 = B00.full()\n",
    "\n",
    "    psi11 = -b * P11 + np.sqrt(1 - b**2) * P00 \n",
    "    B11 = psi11 * psi11.dag()\n",
    "    B11 = B11.full()\n",
    "\n",
    "    psi01 = c * P01 + np.sqrt(1 - c**2) * P10 \n",
    "    B01 = psi01 * psi01.dag()\n",
    "    B01 = B01.full()\n",
    "\n",
    "    psi10 = -c * P10 + np.sqrt(1 - c**2) * P01 \n",
    "    B10 = psi10 * psi10.dag()\n",
    "    B10 = B10.full()\n",
    "\n",
    "    PB00_dag = np.kron(np.eye(2**(n_qubitsA - 1)), np.kron(B00.T.conj(), np.eye(2**(n_qubitsB - 1))))\n",
    "    PB00 = np.kron(np.eye(2**(n_qubitsA - 1)), np.kron(B00, np.eye(2**(n_qubitsB - 1))))\n",
    "\n",
    "    PB11_dag = np.kron(np.eye(2**(n_qubitsA - 1)), np.kron(B11.T.conj(), np.eye(2**(n_qubitsB - 1))))\n",
    "    PB11 = np.kron(np.eye(2**(n_qubitsA - 1)), np.kron(B11, np.eye(2**(n_qubitsB - 1))))\n",
    "\n",
    "    PB01_dag = np.kron(np.eye(2**(n_qubitsA - 1)), np.kron(B01.T.conj(), np.eye(2**(n_qubitsB - 1))))\n",
    "    PB01 = np.kron(np.eye(2**(n_qubitsA - 1)), np.kron(B01, np.eye(2**(n_qubitsB - 1))))\n",
    "\n",
    "    PB10_dag = np.kron(np.eye(2**(n_qubitsA - 1)), np.kron(B10.T.conj(), np.eye(2**(n_qubitsB - 1))))\n",
    "    PB10 = np.kron(np.eye(2**(n_qubitsA - 1)), np.kron(B10, np.eye(2**(n_qubitsB - 1))))\n",
    "    \n",
    "    state = PB00 @ state @ PB00_dag + PB11 @ state @ PB11_dag + PB10 @ state @ PB10_dag + PB01 @ state @ PB01_dag\n",
    "    \n",
    "    return state\n",
    "\n",
    "def entangled_channel_step(state, p, b,с):\n",
    "    \"\"\"Application of entanglement channel with and depolarization channel with probability of depolarization 'p'\"\"\"\n",
    "    state = nonselctive_meas_ch(state,b,с)\n",
    "    if p != 0:\n",
    "        for site in [0, 1, 4, 5]:\n",
    "            state = (1 - p) * state + p/3 * sum([depol_ops[site][i] @ state @ depol_ops[site][i] for i in range(3)])\n",
    "    return state / np.trace(state)\n",
    "\n",
    "tracing_krauss0 = np.concatenate([np.eye(2**(n_qubits_total - 1)), np.zeros((2**(n_qubits_total - 1), 2**(n_qubits_total - 1)))], axis=1)\n",
    "tracing_krauss1 = np.concatenate([np.zeros((2**(n_qubits_total - 1), 2**(n_qubits_total - 1))), np.eye(2**(n_qubits_total - 1))], axis=1)\n",
    "\n",
    "def get_encoding_krauss(inp):\n",
    "    tensor_product_krauss = np.eye(2**(n_qubits_total - 1)).ravel()\n",
    "    tensor_product_krauss = np.stack([tensor_product_krauss * np.sqrt(inp), tensor_product_krauss * np.sqrt(1. - inp)]).reshape(2**(n_qubits_total), 2**(n_qubits_total-1))\n",
    "    return tensor_product_krauss\n",
    "\n",
    "\n",
    "def encoding_step(state, inp):\n",
    "    \"\"\"Encoding of inp to reservoir site #0\"\"\"\n",
    "    # Partial trace. #0 site is traced out\n",
    "#     axis_order = [0, n_qubits_total] + list(range(1, n_qubits_total)) + list(\n",
    "#         range(n_qubits_total + 1, 2*n_qubits_total))\n",
    "#     traced_dm = np.trace(np.reshape(\n",
    "#         np.transpose(np.reshape(state, [2]*2*n_qubits_total), axis_order),\n",
    "#         (2, 2, 2**(n_qubits_total-1), 2**(n_qubits_total-1))\n",
    "#     ))\n",
    "#     # Encoding\n",
    "#     encoding_node_state = np.array([[np.sqrt(inp), np.sqrt(1. - inp)]])\n",
    "#     return np.kron(encoding_node_state.T @ encoding_node_state, traced_dm)\n",
    "    enc_krauss = get_encoding_krauss(inp)\n",
    "    state = tracing_krauss0 @ state @ tracing_krauss0.T + tracing_krauss1 @ state @ tracing_krauss1.T\n",
    "    state = enc_krauss @ state @ enc_krauss.T\n",
    "    return state\n",
    "\n"
   ]
  },
  {
   "cell_type": "code",
   "execution_count": 17,
   "metadata": {},
   "outputs": [],
   "source": [
    "def evaluate_evolution(init_state,depolarization_prob, b,c, N_steps, signal):\n",
    "    # Initialization\n",
    "    state = init_state\n",
    "    for i in range(N_steps):\n",
    "        state = encoding_step(state, signal[i])\n",
    "        state = evolution_step(state)\n",
    "        state = entangled_channel_step(state, depolarization_prob,b,c) \n",
    "        state = evolution_step(state)\n",
    "    return  state"
   ]
  },
  {
   "cell_type": "code",
   "execution_count": 23,
   "metadata": {},
   "outputs": [],
   "source": [
    "\n",
    "#Initial density matrix\n",
    "init_state = qt.tensor(*[qt.rand_ket(2) for _ in range(n_qubits_total)])\n",
    "#init_state = qt.tensor(*[qt.rand_dm(2) for _ in range(n_qubits_total)])\n",
    "init_state = init_state * init_state.dag()\n",
    "init_state = init_state.full()\n",
    "\n",
    "# # inintial signal sample\n",
    "# #signal = np.load(path_main + '/data/complex_signal_9_9.npy')\n",
    "signal = [np.random.choice(2) for _ in range(2200)]\n",
    "# np.save(path_EVAL + 'signal_rand_seed20', signal)\n",
    "np.save(path_EVAL + 'init_state_rand_dm_seed20', init_state)"
   ]
  },
  {
   "cell_type": "code",
   "execution_count": 24,
   "metadata": {},
   "outputs": [],
   "source": [
    "#signal = np.load(path_EVAL + 'signal_rand_seed20' + '.npy')\n",
    "#init_state =  np.load(path_EVAL + 'init_state_rand_dm_seed20' + '.npy')"
   ]
  },
  {
   "cell_type": "code",
   "execution_count": 25,
   "metadata": {},
   "outputs": [
    {
     "data": {
      "text/plain": [
       "(0.9999999999999999+0j)"
      ]
     },
     "execution_count": 25,
     "metadata": {},
     "output_type": "execute_result"
    }
   ],
   "source": [
    "np.trace(init_state @ init_state)"
   ]
  },
  {
   "cell_type": "code",
   "execution_count": 26,
   "metadata": {},
   "outputs": [],
   "source": [
    "def negativity_purity(N_points, init_state):\n",
    "    negativity_arr = np.zeros((N_points,N_points))\n",
    "    purity_arr = np.zeros((N_points,N_points))\n",
    "    b, c = np.meshgrid(np.linspace(0,1, N_points), np.linspace(0,1, N_points))\n",
    "    for i in range(len(b)):\n",
    "        for j in range(len(c)):\n",
    "            res_state = evaluate_evolution(init_state,0, b[0,:][i],c[:,0][j], 2000, signal)\n",
    "            purity_arr[i][j] = np.real(np.trace(res_state @ res_state))\n",
    "            # Converting to Qutip format. Bipartite separation dim H_RA = 4; dim H_RB = 8\n",
    "            qt_state = qt.Qobj(res_state, dims = [[4,8],[4,8]])\n",
    "            qt_state_Tb = qt.partial_transpose(qt_state,[0,1])\n",
    "            neg = (qt_state_Tb.norm(norm = 'tr')- 1)/2\n",
    "            if neg < 10**-9:\n",
    "                neg = 0\n",
    "            negativity_arr[i][j] = neg\n",
    "    return b,c,negativity_arr, purity_arr\n"
   ]
  },
  {
   "cell_type": "code",
   "execution_count": 27,
   "metadata": {},
   "outputs": [
    {
     "name": "stdout",
     "output_type": "stream",
     "text": [
      "Eval.time 11134.421174049377\n"
     ]
    }
   ],
   "source": [
    "N_points = 50\n",
    "t1 = time()\n",
    "b,c, negativity_arr, purity_arr = negativity_purity(50, init_state)\n",
    "t2 = time()\n",
    "print('Eval.time {}'.format(t2-t1))"
   ]
  },
  {
   "cell_type": "code",
   "execution_count": 28,
   "metadata": {},
   "outputs": [],
   "source": [
    "np.save(path_EVAL + 'purity_' + str(N_points), purity_arr)\n",
    "np.save(path_EVAL + 'negativity_' + str(N_points), purity_arr)"
   ]
  },
  {
   "cell_type": "code",
   "execution_count": 29,
   "metadata": {},
   "outputs": [
    {
     "data": {
      "image/png": "[encoded data removed]",
      "text/plain": [
       "<Figure size 2304x1152 with 4 Axes>"
      ]
     },
     "metadata": {
      "needs_background": "light"
     },
     "output_type": "display_data"
    }
   ],
   "source": [
    "fig, (ax1,ax2) = plt.subplots(nrows = 2,figsize = (32,16))\n",
    "cmap = plt.get_cmap('inferno')\n",
    "\n",
    "neg = negativity_arr\n",
    "pur = purity_arr\n",
    "\n",
    "levels_neg = MaxNLocator(nbins=5).tick_values(neg.min(), neg.max())\n",
    "norm_neg = BoundaryNorm(levels_neg, ncolors=cmap.N, clip=True)\n",
    "\n",
    "levels_pur = MaxNLocator(nbins=5).tick_values(pur.min(), pur.max())\n",
    "norm_pur = BoundaryNorm(levels_pur, ncolors=cmap.N, clip=True)\n",
    "\n",
    "\n",
    "cf_neg = ax1.contourf(b,\n",
    "                  c, neg, levels=levels_neg,cmap=cmap)\n",
    "fig.colorbar(cf_neg, ax=ax1)\n",
    "ax1.set_title('NEGATIVITY')\n",
    "\n",
    "\n",
    "cf_pur = ax2.contourf(b,\n",
    "                  c, pur, levels=levels_pur,cmap=cmap)\n",
    "fig.colorbar(cf_pur, ax=ax2)\n",
    "ax2.set_title('PURITY')\n",
    "plt.show()\n"
   ]
  },
  {
   "cell_type": "code",
   "execution_count": 132,
   "metadata": {},
   "outputs": [],
   "source": [
    "def ptrace(mtx, hold):\n",
    "    \"\"\"Performs partial trace of state with only one site #hold remains\"\"\"\n",
    "    indexes = list(range(2*n_qubits_total))\n",
    "    axis_order = [indexes.pop(hold), indexes.pop(hold + n_qubits_total - 1)]\n",
    "    axis_order = indexes + axis_order\n",
    "    mtx = np.transpose(np.reshape(mtx, [2]*2*n_qubits_total), axis_order)\n",
    "    return np.trace(np.reshape(mtx, (2**(n_qubits_total-1), 2**(n_qubits_total-1), 2, 2)))\n",
    "\n",
    "n_qubitsA = 2\n",
    "n_qubitsB = 2\n",
    "n_qubits_total = n_qubitsA + n_qubitsB\n",
    "\n",
    "P0 = qt.basis(2,0) \n",
    "P1 = qt.basis(2,1)\n",
    "\n",
    "HP0 = (qt.basis(2,0) + qt.basis(2,1))/np.sqrt(2)\n",
    "HP1 = (qt.basis(2,0) - qt.basis(2,1))/np.sqrt(2)\n",
    "\n",
    "q0 = HP0 * HP0.dag()\n",
    "q0 = q0.full()\n",
    "q1 = HP1 * HP1.dag()\n",
    "q1 = q1.full()\n",
    "\n",
    "psi00 = qt.tensor(P0,P0)\n",
    "psi01 = qt.tensor(P0,P1)\n",
    "psi10 = qt.tensor(P1,P0)\n",
    "psi11 = qt.tensor(P1,P1)\n",
    "\n",
    "P00 = psi00 * psi00.dag()\n",
    "P01 = psi01 * psi01.dag()\n",
    "P10 = psi10 * psi10.dag()\n",
    "P11 = psi11 * psi11.dag()\n",
    "\n",
    "ra = qt.rand_dm(2**n_qubitsA)\n",
    "rb = qt.rand_dm(2**n_qubitsB)\n",
    "\n",
    "rho_in  = qt.tensor(ra,rb)\n",
    "rho_in = rho_in.full()\n",
    "\n",
    "ra = ra.full()\n",
    "rb = rb.full()\n",
    "\n",
    "def qt_to_numpy_bridgeq(OP):\n",
    "    OP = OP.full()\n",
    "    OP_dag = np.kron(np.eye(2 ** (n_qubitsA - 1)), np.kron(OP.T.conj(), np.eye(2 ** (n_qubitsB - 1))))\n",
    "    OP = np.kron(np.eye(2 ** (n_qubitsA - 1)), np.kron(OP, np.eye(2 ** (n_qubitsB - 1))))\n",
    "    return OP, OP_dag\n",
    "\n",
    "def two_par_measurement_anzats(b,c, separable, *args):\n",
    "    if  separable == False:\n",
    "\n",
    "        # CONSTRUCTING ENTANGLED MEAS. BASIS:\n",
    "        phi00 = b * psi00 + np.sqrt(1 - b ** 2) * psi11\n",
    "        phi11 = np.sqrt(1 - b ** 2) * psi00 - b * psi11\n",
    "        phi01 = c * psi01 + np.sqrt(1 - c ** 2) * psi10\n",
    "        phi10 = np.sqrt(1 - c ** 2) * psi01 - c * psi10\n",
    "\n",
    "        OP00 = phi00 * phi00.dag()\n",
    "        OP11 = phi11 * phi11.dag()\n",
    "        OP10 = phi10 * phi10.dag()\n",
    "        OP01 = phi01 * phi01.dag()\n",
    "\n",
    "    else:\n",
    "        if len(args) == 0:\n",
    "            # CONSTRUCTING SEPARABLE MEAS. BASIS:\n",
    "            psih0 = (qt.basis(2, 0) + qt.basis(2, 1)) / np.sqrt(2)\n",
    "            psih1 = (qt.basis(2, 0) - qt.basis(2, 1)) / np.sqrt(2)\n",
    "        else:\n",
    "            psih0 = args[0] * (qt.basis(2, 0) + qt.basis(2, 1) / np.sqrt(2))\n",
    "            psih1 = args[1] * (qt.basis(2, 0) - qt.basis(2, 1) / np.sqrt(2))\n",
    "\n",
    "        phi00 = qt.tensor(psih0, psih0)\n",
    "        phi11 = qt.tensor(psih1, psih1)\n",
    "        phi01 = qt.tensor(psih0, psih1)\n",
    "        phi10 = qt.tensor(psih1, psih0)\n",
    "\n",
    "        OP00 = phi00 * phi00.dag()\n",
    "        OP11 = phi11 * phi11.dag()\n",
    "        OP10 = phi10 * phi10.dag()\n",
    "        OP01 = phi01 * phi01.dag()\n",
    "\n",
    "    R00,R00_dag = qt_to_numpy_bridgeq(OP00)\n",
    "    R11, R11_dag = qt_to_numpy_bridgeq(OP11)\n",
    "    R01,R01_dag = qt_to_numpy_bridgeq(OP01)\n",
    "    R10, R10_dag = qt_to_numpy_bridgeq(OP10)\n",
    "\n",
    "    return [R00, R00_dag, R11, R11_dag, R01, R01_dag, R10, R10_dag]\n",
    "\n",
    "R00, R00_dag, R11, R11_dag, R01, R01_dag, R10, R10_dag = two_par_measurement_anzats(0.3,0.2, True)\n"
   ]
  },
  {
   "cell_type": "code",
   "execution_count": 133,
   "metadata": {},
   "outputs": [
    {
     "data": {
      "text/plain": [
       "array([[1.+0.j, 0.+0.j, 0.+0.j, 0.+0.j],\n",
       "       [0.+0.j, 1.+0.j, 0.+0.j, 0.+0.j],\n",
       "       [0.+0.j, 0.+0.j, 1.+0.j, 0.+0.j],\n",
       "       [0.+0.j, 0.+0.j, 0.+0.j, 1.+0.j]])"
      ]
     },
     "execution_count": 133,
     "metadata": {},
     "output_type": "execute_result"
    }
   ],
   "source": [
    "R00_dag @ R00 + R01_dag @ R01 + R10_dag @ R10 + R11_dag @ R11"
   ]
  },
  {
   "cell_type": "code",
   "execution_count": 134,
   "metadata": {},
   "outputs": [],
   "source": [
    "rho_out = R00 @ rho_in @ R00_dag + R01 @ rho_in @ R01_dag + R10 @ rho_in @ R10_dag +  R11 @ rho_in @ R11_dag "
   ]
  },
  {
   "cell_type": "code",
   "execution_count": 135,
   "metadata": {},
   "outputs": [
    {
     "data": {
      "text/latex": [
       "Quantum object: dims = [[4], [4]], shape = (4, 4), type = oper, isherm = True\\begin{equation*}\\left(\\begin{array}{*{11}c}0.250 & 0.0 & -0.164 & 0.0\\\\0.0 & 0.250 & 0.0 & -0.164\\\\-0.164 & 0.0 & 0.250 & 0.0\\\\0.0 & -0.164 & 0.0 & 0.250\\\\\\end{array}\\right)\\end{equation*}"
      ],
      "text/plain": [
       "Quantum object: dims = [[4], [4]], shape = (4, 4), type = oper, isherm = True\n",
       "Qobj data =\n",
       "[[ 0.25      +0.00000000e+00j  0.        +0.00000000e+00j\n",
       "  -0.16416819-1.27088493e-18j  0.        +0.00000000e+00j]\n",
       " [ 0.        +0.00000000e+00j  0.25      +0.00000000e+00j\n",
       "   0.        +0.00000000e+00j -0.16416819-1.27088493e-18j]\n",
       " [-0.16416819-1.27088493e-18j  0.        +0.00000000e+00j\n",
       "   0.25      +0.00000000e+00j  0.        +0.00000000e+00j]\n",
       " [ 0.        +0.00000000e+00j -0.16416819-1.27088493e-18j\n",
       "   0.        +0.00000000e+00j  0.25      +0.00000000e+00j]]"
      ]
     },
     "execution_count": 135,
     "metadata": {},
     "output_type": "execute_result"
    }
   ],
   "source": [
    "qt.Qobj(rho_out)"
   ]
  },
  {
   "cell_type": "code",
   "execution_count": 136,
   "metadata": {},
   "outputs": [
    {
     "data": {
      "text/plain": [
       "array([[ 0.5       +0.00000000e+00j, -0.32833638-2.54176986e-18j],\n",
       "       [-0.32833638-2.54176986e-18j,  0.5       +0.00000000e+00j]])"
      ]
     },
     "execution_count": 136,
     "metadata": {},
     "output_type": "execute_result"
    }
   ],
   "source": [
    "q_ra = ptrace(rho_out,0)\n",
    "q_ra"
   ]
  },
  {
   "cell_type": "code",
   "execution_count": 137,
   "metadata": {},
   "outputs": [
    {
     "data": {
      "text/plain": [
       "array([[0.5+0.j, 0. +0.j],\n",
       "       [0. +0.j, 0.5+0.j]])"
      ]
     },
     "execution_count": 137,
     "metadata": {},
     "output_type": "execute_result"
    }
   ],
   "source": [
    "q_rb = ptrace(rho_out,1)\n",
    "q_rb"
   ]
  },
  {
   "cell_type": "code",
   "execution_count": 138,
   "metadata": {},
   "outputs": [
    {
     "data": {
      "text/plain": [
       "array([[ 0.5       +0.00000000e+00j, -0.32833638+1.88832317e-18j],\n",
       "       [-0.32833638+1.88832317e-18j,  0.5       +0.00000000e+00j]])"
      ]
     },
     "execution_count": 138,
     "metadata": {},
     "output_type": "execute_result"
    }
   ],
   "source": [
    "ra_out = q0 @ ra @ q0 + q1 @ ra @ q1\n",
    "ra_out"
   ]
  },
  {
   "cell_type": "code",
   "execution_count": 139,
   "metadata": {},
   "outputs": [
    {
     "data": {
      "text/plain": [
       "array([[0.5+0.j, 0. +0.j],\n",
       "       [0. +0.j, 0.5+0.j]])"
      ]
     },
     "execution_count": 139,
     "metadata": {},
     "output_type": "execute_result"
    }
   ],
   "source": [
    "rb_out = q0 @ rb @ q0 + q1 @ rb @ q1\n",
    "rb_out"
   ]
  },
  {
   "cell_type": "code",
   "execution_count": null,
   "metadata": {},
   "outputs": [],
   "source": []
  }
 ],
 "metadata": {
  "kernelspec": {
   "display_name": "Python 3",
   "language": "python",
   "name": "python3"
  },
  "language_info": {
   "codemirror_mode": {
    "name": "ipython",
    "version": 3
   },
   "file_extension": ".py",
   "mimetype": "text/x-python",
   "name": "python",
   "nbconvert_exporter": "python",
   "pygments_lexer": "ipython3",
   "version": "3.8.5"
  }
 },
 "nbformat": 4,
 "nbformat_minor": 4
}
