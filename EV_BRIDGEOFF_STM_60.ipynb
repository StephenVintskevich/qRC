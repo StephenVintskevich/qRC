{
 "cells": [
  {
   "cell_type": "code",
   "execution_count": 17,
   "metadata": {},
   "outputs": [],
   "source": [
    "# LIB UPLOAD CELL:\n",
    "###########################################\n",
    "\n",
    "import MAIN_MODULE as mm\n",
    "\n",
    "\n",
    "path_main = '/Users/stepanvinckevich/Desktop/IMPORTANT NOW/QIS QRL/CODE/qRC/'\n",
    "path_EVAL = path_main + 'EVALUATION/BRIDGEOFF_STM_60/'\n",
    "mm.sys.path.append(path_main)\n",
    "\n",
    "from matplotlib import pyplot as plt\n",
    "import matplotlib.font_manager as font_manager \n",
    "from matplotlib.pyplot import gca\n"
   ]
  },
  {
   "cell_type": "code",
   "execution_count": 18,
   "metadata": {},
   "outputs": [],
   "source": [
    "# EVALUATION CELL:\n",
    "###########################################\n",
    "\n",
    "multiplexing = 10\n",
    "# FUNCTION EVALUATE IMPLEMENT ANALYSIS WITH  BRIDGE SET TO OFF !!!\n",
    "def evaluate_bridge_off(init_state, signal, depolarization_prob):\n",
    "    # Initialization\n",
    "    inp = signal[2000:2200]\n",
    "    result = mm.np.zeros((len(inp), multiplexing, mm.n_qubitsB))\n",
    "    state = init_state\n",
    "    # PRECPROCESSING --> IT IS NECESSARY TO SATISFY ECHO STATE PROPERTY. 2000 temporal preproc. steps.\n",
    "    for i in range(2000):\n",
    "        state = mm.encoding_step(state, signal[i])\n",
    "        state = mm.evolution_step(state)\n",
    "        #state = mm.entangled_channel_step(state, depolarization_prob) ## ENTANGLING CHANNEL EXEC FUNCTION\n",
    "        \n",
    "    # READOUT  ( TEMPORAL MULTIPLEXING )\n",
    "    for n in range(len(inp)):\n",
    "        state = mm.encoding_step(state, inp[n])\n",
    "        for m in range(multiplexing):\n",
    "            state = mm.evolution_step(state)\n",
    "            #state = mm.entangled_channel_step(state, depolarization_prob)\n",
    "\n",
    "            for site in range(mm.n_qubitsB):\n",
    "                state, outcome = mm.separated_measurement_step(state, site + mm.n_qubitsA)\n",
    "                result[n, m, site] = outcome\n",
    "\n",
    "    return result"
   ]
  },
  {
   "cell_type": "code",
   "execution_count": 3,
   "metadata": {},
   "outputs": [
    {
     "name": "stdout",
     "output_type": "stream",
     "text": [
      "0\n"
     ]
    },
    {
     "data": {
      "application/vnd.jupyter.widget-view+json": {
       "model_id": "2f34818f33804690867c454fce2ac307",
       "version_major": 2,
       "version_minor": 0
      },
      "text/plain": [
       "HBox(children=(HTML(value=''), FloatProgress(value=0.0, max=60.0), HTML(value='')))"
      ]
     },
     "metadata": {},
     "output_type": "display_data"
    },
    {
     "name": "stdout",
     "output_type": "stream",
     "text": [
      "\n"
     ]
    }
   ],
   "source": [
    "# EXECUTION CELL:\n",
    "###########################################\n",
    "num_signal_samples = 60\n",
    "num_states_samples = 60\n",
    "\n",
    "for s in range(num_signal_samples = 60):\n",
    "    print('Signal sample num:' +  str(s))\n",
    "    signal = [mm.np.random.choice(2) for _ in range(2200)]\n",
    "    for i in mm.tqdm(range(num_states_samples = 60)):\n",
    "        # Initial density matrix\n",
    "        init_state = mm.qt.tensor(*[mm.qt.rand_ket(2) for _ in range(n_qubits_total)])\n",
    "        init_state = init_state * init_state.dag()\n",
    "        init_state = init_state.full()\n",
    "        results = evaluate_bridge_off(init_state, signal, 0)\n",
    "        mm.np.save(path_EVAL + str(s) + 'results' + str(i), results)\n",
    "        mm.np.save(path_EVAL + str(s)+'signal', signal)"
   ]
  }
 ],
 "metadata": {
  "kernelspec": {
   "display_name": "Python 3",
   "language": "python",
   "name": "python3"
  },
  "language_info": {
   "codemirror_mode": {
    "name": "ipython",
    "version": 3
   },
   "file_extension": ".py",
   "mimetype": "text/x-python",
   "name": "python",
   "nbconvert_exporter": "python",
   "pygments_lexer": "ipython3",
   "version": "3.8.5"
  }
 },
 "nbformat": 4,
 "nbformat_minor": 4
}
